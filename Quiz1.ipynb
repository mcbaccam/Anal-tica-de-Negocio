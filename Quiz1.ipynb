{
  "nbformat": 4,
  "nbformat_minor": 0,
  "metadata": {
    "colab": {
      "provenance": [],
      "include_colab_link": true
    },
    "kernelspec": {
      "name": "python3",
      "display_name": "Python 3"
    },
    "language_info": {
      "name": "python"
    }
  },
  "cells": [
    {
      "cell_type": "markdown",
      "metadata": {
        "id": "view-in-github",
        "colab_type": "text"
      },
      "source": [
        "<a href=\"https://colab.research.google.com/github/mcbaccam/Anal-tica-de-Negocio/blob/main/Quiz1.ipynb\" target=\"_parent\"><img src=\"https://colab.research.google.com/assets/colab-badge.svg\" alt=\"Open In Colab\"/></a>"
      ]
    },
    {
      "cell_type": "markdown",
      "source": [
        "Reto 1 – Modelos de Clasificación Naive Bayes - Maria Camila Bacca"
      ],
      "metadata": {
        "id": "ckrEysEhqpaO"
      }
    },
    {
      "cell_type": "code",
      "source": [
        "import numpy as np #Funciones matemaricas\n",
        "import pandas as pd #Comunicacion con excel\n",
        "from sklearn.naive_bayes import GaussianNB #Funcion Gaussiana\n",
        "from sklearn.metrics import confusion_matrix #La metrica de medida"
      ],
      "metadata": {
        "id": "F8QfsYwnq2RC"
      },
      "execution_count": null,
      "outputs": []
    },
    {
      "cell_type": "code",
      "source": [
        "nxl='/content/1. BD1_Longitudinal Survey.xlsx'\n",
        "XDB=pd.read_excel(nxl,sheet_name=0) #Traigo los datos\n",
        "XDB.dropna(inplace=True) #Eliminar datos faltantes, celdas vacias and update the DataFrame\n",
        "\n",
        "#Seleccionamos las variables de interes\n",
        "XDB=XDB[['Age', 'Mother_Edu','Father_Edu','FamilySize', 'Self_Esteem', 'Height', 'Weight', 'Income', 'Urban']]\n",
        "\n",
        "#Datos de entrada - np.array()- convertir a numeros\n",
        "XD=np.array(XDB[['Age', 'Mother_Edu','Father_Edu','FamilySize', 'Self_Esteem', 'Height', 'Weight', 'Income']])\n",
        "\n",
        "#Datos de salida - valor deseado - que quiero quue aprenda el modelo\n",
        "yd=np.array(XDB['Urban'])\n",
        "print(XDB)"
      ],
      "metadata": {
        "id": "91xchHBWu2F3"
      },
      "execution_count": null,
      "outputs": []
    },
    {
      "cell_type": "code",
      "source": [
        "total_data_points = len(XDB)\n",
        "print(\"El numero total de datos es: \", total_data_points)"
      ],
      "metadata": {
        "id": "dGeQuwPqDqjL"
      },
      "execution_count": null,
      "outputs": []
    },
    {
      "cell_type": "code",
      "source": [
        "# Calculate percentage distribution of 'Father_Edu' categories\n",
        "FatherEdu_percentage = XDB['Father_Edu'].value_counts(normalize=True) * 100\n",
        "\n",
        "# Display the percentages\n",
        "print(FatherEdu_percentage)"
      ],
      "metadata": {
        "id": "D7tDflUbPZP5"
      },
      "execution_count": null,
      "outputs": []
    },
    {
      "cell_type": "code",
      "source": [
        "# Calculate percentage distribution of 'Mother_Edu' categories\n",
        "MotherEdu_percentage = XDB['Mother_Edu'].value_counts(normalize=True) * 100\n",
        "\n",
        "# Display the percentages\n",
        "print(MotherEdu_percentage)"
      ],
      "metadata": {
        "id": "dJMdrTn9PIp7"
      },
      "execution_count": null,
      "outputs": []
    },
    {
      "cell_type": "code",
      "source": [
        "# Calculate percentage distribution of 'Urban' categories\n",
        "urban_percentage = XDB['Urban'].value_counts(normalize=True) * 100\n",
        "\n",
        "# Display the percentages\n",
        "print(urban_percentage)"
      ],
      "metadata": {
        "id": "ECpWeZ-tFBzk"
      },
      "execution_count": null,
      "outputs": []
    },
    {
      "cell_type": "code",
      "source": [
        "# Calculate percentage distribution of 'Age' categories\n",
        "age_percentage = XDB['Age'].value_counts(normalize=True) * 100\n",
        "\n",
        "# Display the percentages\n",
        "print(age_percentage)"
      ],
      "metadata": {
        "id": "S29dLxO8JEQT"
      },
      "execution_count": null,
      "outputs": []
    },
    {
      "cell_type": "code",
      "source": [
        "# Calculate percentage distribution of 'Father_Edu' categories\n",
        "FatherEdu_percentage = XDB['Father_Edu'].value_counts(normalize=True) * 100\n",
        "\n",
        "# Display the percentages\n",
        "print(FatherEdu_percentage)"
      ],
      "metadata": {
        "id": "A09g8mZ8__Dr"
      },
      "execution_count": null,
      "outputs": []
    },
    {
      "cell_type": "code",
      "source": [
        "# Calculate percentage distribution of 'FamilySize' categories\n",
        "FamilySize_percentage = XDB['FamilySize'].value_counts(normalize=True) * 100\n",
        "\n",
        "# Display the percentages\n",
        "print(FamilySize_percentage)"
      ],
      "metadata": {
        "id": "7xzc_AOEAEHU"
      },
      "execution_count": null,
      "outputs": []
    },
    {
      "cell_type": "code",
      "source": [
        "# Calculate percentage distribution of 'Self_Esteem' categories\n",
        "SelfEsteem_percentage = XDB['Self_Esteem'].value_counts(normalize=True) * 100\n",
        "\n",
        "# Display the percentages\n",
        "print(SelfEsteem_percentage)"
      ],
      "metadata": {
        "id": "DvqcDLfCALyJ"
      },
      "execution_count": null,
      "outputs": []
    },
    {
      "cell_type": "code",
      "source": [
        "# Calculate percentage distribution of 'Height' categories\n",
        "Height_percentage = XDB['Height'].value_counts(normalize=True) * 100\n",
        "\n",
        "# Display the percentages\n",
        "print(Height_percentage)"
      ],
      "metadata": {
        "id": "1z0geOZNAU8j"
      },
      "execution_count": null,
      "outputs": []
    },
    {
      "cell_type": "code",
      "source": [
        "# Calculate percentage distribution of 'Weight' categories\n",
        "Weight_percentage = XDB['Weight'].value_counts(normalize=True) * 100\n",
        "\n",
        "# Display the percentages\n",
        "print(Weight_percentage)"
      ],
      "metadata": {
        "id": "4OVTmflmAZjT"
      },
      "execution_count": null,
      "outputs": []
    },
    {
      "cell_type": "code",
      "source": [
        "# Calculate percentage distribution of 'Income' categories\n",
        "Income_percentage = XDB['Income'].value_counts(normalize=True) * 100\n",
        "\n",
        "# Display the percentages\n",
        "print(Income_percentage)"
      ],
      "metadata": {
        "id": "__vIGFVhBETO"
      },
      "execution_count": null,
      "outputs": []
    },
    {
      "cell_type": "code",
      "source": [
        "# Calcular el valor mínimo y máximo de la columna 'Age'\n",
        "min_age = XDB['Age'].min()\n",
        "max_age = XDB['Age'].max()\n",
        "\n",
        "# Imprimir el intervalo\n",
        "print(\"El intervalo de Age es: [{}, {}]\".format(min_age, max_age))\n",
        "\n",
        "# Calcular el valor mínimo y máximo de la columna 'Height'\n",
        "min_height = XDB['Height'].min()\n",
        "max_height = XDB['Height'].max()\n",
        "\n",
        "# Imprimir el intervalo de Height\n",
        "print(\"El intervalo de Height es: [{}, {}]\".format(min_height, max_height))\n",
        "\n",
        "# Calcular el valor mínimo y máximo de la columna 'Weight'\n",
        "min_weight = XDB['Weight'].min()\n",
        "max_weight = XDB['Weight'].max()\n",
        "\n",
        "# Imprimir el intervalo de Weight\n",
        "print(\"El intervalo de Weight es: [{}, {}]\".format(min_weight, max_weight))"
      ],
      "metadata": {
        "id": "eEXqJOMQGIzP"
      },
      "execution_count": null,
      "outputs": []
    },
    {
      "cell_type": "code",
      "source": [
        "mnb=GaussianNB() #Llamamos el modelo\n",
        "mnb.fit(XD,yd)\n",
        "ydp=mnb.predict(XD) #Muestra los datos de salida que el obtuvo\n",
        "cm=confusion_matrix(yd,ydp)"
      ],
      "metadata": {
        "id": "zaqqsFq5LJ7K"
      },
      "execution_count": null,
      "outputs": []
    },
    {
      "cell_type": "code",
      "source": [
        "VN=cm[0,0] #Verdaderos Negativos\n",
        "FP=cm[0,1] #Falsos Positivos\n",
        "FN=cm[1,0] #Falsos Negativos\n",
        "VP=cm[1,1] #Verdaderos Positivos\n",
        "\n",
        "Exactitud=(VP+VN)/len(XD)\n",
        "print(\"La exactitud del modelo es: \") #Comportamiento General\n",
        "print(Exactitud)\n",
        "\n",
        "TE=(FN+FP)/len(XD)\n",
        "print(\"La tasa de error del modelo es: \") #Porcentaje de equivocaciones\n",
        "print(TE)\n",
        "\n",
        "Sensibilidad=VP/(VP+FP)\n",
        "print(\"La sensibilidad del modelo es: \") #Como se comporto frente a los positivos\n",
        "print(Sensibilidad)\n",
        "\n",
        "Especificidad=VN/(VN+FN)\n",
        "print(\"La especificidad del modelo es: \") #Como se comporoto frente a los negativos\n",
        "print(Especificidad)\n"
      ],
      "metadata": {
        "id": "CyCRmjuLvH6Q"
      },
      "execution_count": null,
      "outputs": []
    },
    {
      "cell_type": "markdown",
      "source": [
        "De los resultados arrojados se puede observar que el numero de datos de la base de datos 5948. Podemos ver que el intervalo de la variación de la edad se situa entre los 15 y 22 años. También, el intervalo de la variacion de la altura está entre 51 y 80. Se observa que la variación del peso está entre 72 y 375.\n",
        "\n",
        "La exactitud alcanzada por el modelo es 79%, entonces entendiendose y observando que la tasa de error es del 20% más o menos. La sensibilidad alcanzadas es de casi 80% y una especificidad del 27%.\n",
        "\n",
        "En resumen, el modelo tiene un buen rendimiento general, con una alta capacidad para detectar casos positivos, pero una capacidad más baja para detectar casos negativos."
      ],
      "metadata": {
        "id": "xyR2uZxIHetJ"
      }
    }
  ]
}