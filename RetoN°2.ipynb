{
  "nbformat": 4,
  "nbformat_minor": 0,
  "metadata": {
    "colab": {
      "provenance": [],
      "authorship_tag": "ABX9TyPrsBNPOO7s7HHw5ib/C1OB",
      "include_colab_link": true
    },
    "kernelspec": {
      "name": "python3",
      "display_name": "Python 3"
    },
    "language_info": {
      "name": "python"
    }
  },
  "cells": [
    {
      "cell_type": "markdown",
      "metadata": {
        "id": "view-in-github",
        "colab_type": "text"
      },
      "source": [
        "<a href=\"https://colab.research.google.com/github/mcbaccam/Anal-tica-de-Negocio/blob/main/RetoN%C2%B02.ipynb\" target=\"_parent\"><img src=\"https://colab.research.google.com/assets/colab-badge.svg\" alt=\"Open In Colab\"/></a>"
      ]
    },
    {
      "cell_type": "markdown",
      "source": [
        "**Arboles de decisión**\n",
        "0. Cargar las librerías de referencia para el modelo"
      ],
      "metadata": {
        "id": "qg4IyXSlmioc"
      }
    },
    {
      "cell_type": "code",
      "source": [
        "import numpy as np\n",
        "import pandas as pd\n",
        "import matplotlib.pyplot as plt #Graficador de cosas\n",
        "from sklearn.tree import DecisionTreeClassifier\n",
        "\n",
        "#Para no tener que cargar el archivo\n",
        "from google.colab import drive\n",
        "drive.mount('/content/drive')"
      ],
      "metadata": {
        "colab": {
          "base_uri": "https://localhost:8080/"
        },
        "id": "D8seLROwm-gc",
        "outputId": "768d6041-18e0-414e-f3ce-afe4d3bab2db"
      },
      "execution_count": null,
      "outputs": [
        {
          "output_type": "stream",
          "name": "stdout",
          "text": [
            "Mounted at /content/drive\n"
          ]
        }
      ]
    },
    {
      "cell_type": "markdown",
      "source": [
        "1. Se procede con la carga de los datos del archivo SolicitantesCrédito"
      ],
      "metadata": {
        "id": "Eyh5hhKWpKbB"
      }
    },
    {
      "cell_type": "code",
      "source": [
        "nxl= '/content/2. BD1_Travel_Data_int.xlsx'\n",
        "XDB = pd.read_excel(nxl, sheet_name = 0)\n",
        "XDB.head(100)"
      ],
      "metadata": {
        "id": "DFq_E3yXpTiJ",
        "colab": {
          "base_uri": "https://localhost:8080/",
          "height": 423
        },
        "outputId": "f777c6b4-ebb8-41d3-920c-6183ed414c6f"
      },
      "execution_count": null,
      "outputs": [
        {
          "output_type": "execute_result",
          "data": {
            "text/plain": [
              "    College  CreditCard  FoodSpend  Income  TravelSpend\n",
              "0         1           1    5472.43   49150       827.40\n",
              "1         0           1    9130.73   47806       863.55\n",
              "2         0           1    4450.67   46050      1180.05\n",
              "3         0           1    5020.72   42600       755.70\n",
              "4         0           1    3408.11   52092       851.40\n",
              "..      ...         ...        ...     ...          ...\n",
              "95        0           0    2019.98   65982      4338.75\n",
              "96        0           0    7046.11   53986      1851.60\n",
              "97        0           0    5180.13   53986      1646.70\n",
              "98        0           0    3266.44   63962      1641.60\n",
              "99        1           1    2082.23   49004      1564.95\n",
              "\n",
              "[100 rows x 5 columns]"
            ],
            "text/html": [
              "\n",
              "  <div id=\"df-30274199-8c65-4d87-a18d-9a4a07acba89\" class=\"colab-df-container\">\n",
              "    <div>\n",
              "<style scoped>\n",
              "    .dataframe tbody tr th:only-of-type {\n",
              "        vertical-align: middle;\n",
              "    }\n",
              "\n",
              "    .dataframe tbody tr th {\n",
              "        vertical-align: top;\n",
              "    }\n",
              "\n",
              "    .dataframe thead th {\n",
              "        text-align: right;\n",
              "    }\n",
              "</style>\n",
              "<table border=\"1\" class=\"dataframe\">\n",
              "  <thead>\n",
              "    <tr style=\"text-align: right;\">\n",
              "      <th></th>\n",
              "      <th>College</th>\n",
              "      <th>CreditCard</th>\n",
              "      <th>FoodSpend</th>\n",
              "      <th>Income</th>\n",
              "      <th>TravelSpend</th>\n",
              "    </tr>\n",
              "  </thead>\n",
              "  <tbody>\n",
              "    <tr>\n",
              "      <th>0</th>\n",
              "      <td>1</td>\n",
              "      <td>1</td>\n",
              "      <td>5472.43</td>\n",
              "      <td>49150</td>\n",
              "      <td>827.40</td>\n",
              "    </tr>\n",
              "    <tr>\n",
              "      <th>1</th>\n",
              "      <td>0</td>\n",
              "      <td>1</td>\n",
              "      <td>9130.73</td>\n",
              "      <td>47806</td>\n",
              "      <td>863.55</td>\n",
              "    </tr>\n",
              "    <tr>\n",
              "      <th>2</th>\n",
              "      <td>0</td>\n",
              "      <td>1</td>\n",
              "      <td>4450.67</td>\n",
              "      <td>46050</td>\n",
              "      <td>1180.05</td>\n",
              "    </tr>\n",
              "    <tr>\n",
              "      <th>3</th>\n",
              "      <td>0</td>\n",
              "      <td>1</td>\n",
              "      <td>5020.72</td>\n",
              "      <td>42600</td>\n",
              "      <td>755.70</td>\n",
              "    </tr>\n",
              "    <tr>\n",
              "      <th>4</th>\n",
              "      <td>0</td>\n",
              "      <td>1</td>\n",
              "      <td>3408.11</td>\n",
              "      <td>52092</td>\n",
              "      <td>851.40</td>\n",
              "    </tr>\n",
              "    <tr>\n",
              "      <th>...</th>\n",
              "      <td>...</td>\n",
              "      <td>...</td>\n",
              "      <td>...</td>\n",
              "      <td>...</td>\n",
              "      <td>...</td>\n",
              "    </tr>\n",
              "    <tr>\n",
              "      <th>95</th>\n",
              "      <td>0</td>\n",
              "      <td>0</td>\n",
              "      <td>2019.98</td>\n",
              "      <td>65982</td>\n",
              "      <td>4338.75</td>\n",
              "    </tr>\n",
              "    <tr>\n",
              "      <th>96</th>\n",
              "      <td>0</td>\n",
              "      <td>0</td>\n",
              "      <td>7046.11</td>\n",
              "      <td>53986</td>\n",
              "      <td>1851.60</td>\n",
              "    </tr>\n",
              "    <tr>\n",
              "      <th>97</th>\n",
              "      <td>0</td>\n",
              "      <td>0</td>\n",
              "      <td>5180.13</td>\n",
              "      <td>53986</td>\n",
              "      <td>1646.70</td>\n",
              "    </tr>\n",
              "    <tr>\n",
              "      <th>98</th>\n",
              "      <td>0</td>\n",
              "      <td>0</td>\n",
              "      <td>3266.44</td>\n",
              "      <td>63962</td>\n",
              "      <td>1641.60</td>\n",
              "    </tr>\n",
              "    <tr>\n",
              "      <th>99</th>\n",
              "      <td>1</td>\n",
              "      <td>1</td>\n",
              "      <td>2082.23</td>\n",
              "      <td>49004</td>\n",
              "      <td>1564.95</td>\n",
              "    </tr>\n",
              "  </tbody>\n",
              "</table>\n",
              "<p>100 rows × 5 columns</p>\n",
              "</div>\n",
              "    <div class=\"colab-df-buttons\">\n",
              "\n",
              "  <div class=\"colab-df-container\">\n",
              "    <button class=\"colab-df-convert\" onclick=\"convertToInteractive('df-30274199-8c65-4d87-a18d-9a4a07acba89')\"\n",
              "            title=\"Convert this dataframe to an interactive table.\"\n",
              "            style=\"display:none;\">\n",
              "\n",
              "  <svg xmlns=\"http://www.w3.org/2000/svg\" height=\"24px\" viewBox=\"0 -960 960 960\">\n",
              "    <path d=\"M120-120v-720h720v720H120Zm60-500h600v-160H180v160Zm220 220h160v-160H400v160Zm0 220h160v-160H400v160ZM180-400h160v-160H180v160Zm440 0h160v-160H620v160ZM180-180h160v-160H180v160Zm440 0h160v-160H620v160Z\"/>\n",
              "  </svg>\n",
              "    </button>\n",
              "\n",
              "  <style>\n",
              "    .colab-df-container {\n",
              "      display:flex;\n",
              "      gap: 12px;\n",
              "    }\n",
              "\n",
              "    .colab-df-convert {\n",
              "      background-color: #E8F0FE;\n",
              "      border: none;\n",
              "      border-radius: 50%;\n",
              "      cursor: pointer;\n",
              "      display: none;\n",
              "      fill: #1967D2;\n",
              "      height: 32px;\n",
              "      padding: 0 0 0 0;\n",
              "      width: 32px;\n",
              "    }\n",
              "\n",
              "    .colab-df-convert:hover {\n",
              "      background-color: #E2EBFA;\n",
              "      box-shadow: 0px 1px 2px rgba(60, 64, 67, 0.3), 0px 1px 3px 1px rgba(60, 64, 67, 0.15);\n",
              "      fill: #174EA6;\n",
              "    }\n",
              "\n",
              "    .colab-df-buttons div {\n",
              "      margin-bottom: 4px;\n",
              "    }\n",
              "\n",
              "    [theme=dark] .colab-df-convert {\n",
              "      background-color: #3B4455;\n",
              "      fill: #D2E3FC;\n",
              "    }\n",
              "\n",
              "    [theme=dark] .colab-df-convert:hover {\n",
              "      background-color: #434B5C;\n",
              "      box-shadow: 0px 1px 3px 1px rgba(0, 0, 0, 0.15);\n",
              "      filter: drop-shadow(0px 1px 2px rgba(0, 0, 0, 0.3));\n",
              "      fill: #FFFFFF;\n",
              "    }\n",
              "  </style>\n",
              "\n",
              "    <script>\n",
              "      const buttonEl =\n",
              "        document.querySelector('#df-30274199-8c65-4d87-a18d-9a4a07acba89 button.colab-df-convert');\n",
              "      buttonEl.style.display =\n",
              "        google.colab.kernel.accessAllowed ? 'block' : 'none';\n",
              "\n",
              "      async function convertToInteractive(key) {\n",
              "        const element = document.querySelector('#df-30274199-8c65-4d87-a18d-9a4a07acba89');\n",
              "        const dataTable =\n",
              "          await google.colab.kernel.invokeFunction('convertToInteractive',\n",
              "                                                    [key], {});\n",
              "        if (!dataTable) return;\n",
              "\n",
              "        const docLinkHtml = 'Like what you see? Visit the ' +\n",
              "          '<a target=\"_blank\" href=https://colab.research.google.com/notebooks/data_table.ipynb>data table notebook</a>'\n",
              "          + ' to learn more about interactive tables.';\n",
              "        element.innerHTML = '';\n",
              "        dataTable['output_type'] = 'display_data';\n",
              "        await google.colab.output.renderOutput(dataTable, element);\n",
              "        const docLink = document.createElement('div');\n",
              "        docLink.innerHTML = docLinkHtml;\n",
              "        element.appendChild(docLink);\n",
              "      }\n",
              "    </script>\n",
              "  </div>\n",
              "\n",
              "\n",
              "<div id=\"df-ddc73dc0-fead-4aeb-9918-2ca31ce47cf9\">\n",
              "  <button class=\"colab-df-quickchart\" onclick=\"quickchart('df-ddc73dc0-fead-4aeb-9918-2ca31ce47cf9')\"\n",
              "            title=\"Suggest charts\"\n",
              "            style=\"display:none;\">\n",
              "\n",
              "<svg xmlns=\"http://www.w3.org/2000/svg\" height=\"24px\"viewBox=\"0 0 24 24\"\n",
              "     width=\"24px\">\n",
              "    <g>\n",
              "        <path d=\"M19 3H5c-1.1 0-2 .9-2 2v14c0 1.1.9 2 2 2h14c1.1 0 2-.9 2-2V5c0-1.1-.9-2-2-2zM9 17H7v-7h2v7zm4 0h-2V7h2v10zm4 0h-2v-4h2v4z\"/>\n",
              "    </g>\n",
              "</svg>\n",
              "  </button>\n",
              "\n",
              "<style>\n",
              "  .colab-df-quickchart {\n",
              "      --bg-color: #E8F0FE;\n",
              "      --fill-color: #1967D2;\n",
              "      --hover-bg-color: #E2EBFA;\n",
              "      --hover-fill-color: #174EA6;\n",
              "      --disabled-fill-color: #AAA;\n",
              "      --disabled-bg-color: #DDD;\n",
              "  }\n",
              "\n",
              "  [theme=dark] .colab-df-quickchart {\n",
              "      --bg-color: #3B4455;\n",
              "      --fill-color: #D2E3FC;\n",
              "      --hover-bg-color: #434B5C;\n",
              "      --hover-fill-color: #FFFFFF;\n",
              "      --disabled-bg-color: #3B4455;\n",
              "      --disabled-fill-color: #666;\n",
              "  }\n",
              "\n",
              "  .colab-df-quickchart {\n",
              "    background-color: var(--bg-color);\n",
              "    border: none;\n",
              "    border-radius: 50%;\n",
              "    cursor: pointer;\n",
              "    display: none;\n",
              "    fill: var(--fill-color);\n",
              "    height: 32px;\n",
              "    padding: 0;\n",
              "    width: 32px;\n",
              "  }\n",
              "\n",
              "  .colab-df-quickchart:hover {\n",
              "    background-color: var(--hover-bg-color);\n",
              "    box-shadow: 0 1px 2px rgba(60, 64, 67, 0.3), 0 1px 3px 1px rgba(60, 64, 67, 0.15);\n",
              "    fill: var(--button-hover-fill-color);\n",
              "  }\n",
              "\n",
              "  .colab-df-quickchart-complete:disabled,\n",
              "  .colab-df-quickchart-complete:disabled:hover {\n",
              "    background-color: var(--disabled-bg-color);\n",
              "    fill: var(--disabled-fill-color);\n",
              "    box-shadow: none;\n",
              "  }\n",
              "\n",
              "  .colab-df-spinner {\n",
              "    border: 2px solid var(--fill-color);\n",
              "    border-color: transparent;\n",
              "    border-bottom-color: var(--fill-color);\n",
              "    animation:\n",
              "      spin 1s steps(1) infinite;\n",
              "  }\n",
              "\n",
              "  @keyframes spin {\n",
              "    0% {\n",
              "      border-color: transparent;\n",
              "      border-bottom-color: var(--fill-color);\n",
              "      border-left-color: var(--fill-color);\n",
              "    }\n",
              "    20% {\n",
              "      border-color: transparent;\n",
              "      border-left-color: var(--fill-color);\n",
              "      border-top-color: var(--fill-color);\n",
              "    }\n",
              "    30% {\n",
              "      border-color: transparent;\n",
              "      border-left-color: var(--fill-color);\n",
              "      border-top-color: var(--fill-color);\n",
              "      border-right-color: var(--fill-color);\n",
              "    }\n",
              "    40% {\n",
              "      border-color: transparent;\n",
              "      border-right-color: var(--fill-color);\n",
              "      border-top-color: var(--fill-color);\n",
              "    }\n",
              "    60% {\n",
              "      border-color: transparent;\n",
              "      border-right-color: var(--fill-color);\n",
              "    }\n",
              "    80% {\n",
              "      border-color: transparent;\n",
              "      border-right-color: var(--fill-color);\n",
              "      border-bottom-color: var(--fill-color);\n",
              "    }\n",
              "    90% {\n",
              "      border-color: transparent;\n",
              "      border-bottom-color: var(--fill-color);\n",
              "    }\n",
              "  }\n",
              "</style>\n",
              "\n",
              "  <script>\n",
              "    async function quickchart(key) {\n",
              "      const quickchartButtonEl =\n",
              "        document.querySelector('#' + key + ' button');\n",
              "      quickchartButtonEl.disabled = true;  // To prevent multiple clicks.\n",
              "      quickchartButtonEl.classList.add('colab-df-spinner');\n",
              "      try {\n",
              "        const charts = await google.colab.kernel.invokeFunction(\n",
              "            'suggestCharts', [key], {});\n",
              "      } catch (error) {\n",
              "        console.error('Error during call to suggestCharts:', error);\n",
              "      }\n",
              "      quickchartButtonEl.classList.remove('colab-df-spinner');\n",
              "      quickchartButtonEl.classList.add('colab-df-quickchart-complete');\n",
              "    }\n",
              "    (() => {\n",
              "      let quickchartButtonEl =\n",
              "        document.querySelector('#df-ddc73dc0-fead-4aeb-9918-2ca31ce47cf9 button');\n",
              "      quickchartButtonEl.style.display =\n",
              "        google.colab.kernel.accessAllowed ? 'block' : 'none';\n",
              "    })();\n",
              "  </script>\n",
              "</div>\n",
              "\n",
              "    </div>\n",
              "  </div>\n"
            ],
            "application/vnd.google.colaboratory.intrinsic+json": {
              "type": "dataframe",
              "variable_name": "XDB",
              "summary": "{\n  \"name\": \"XDB\",\n  \"rows\": 500,\n  \"fields\": [\n    {\n      \"column\": \"College\",\n      \"properties\": {\n        \"dtype\": \"number\",\n        \"std\": 0,\n        \"min\": 0,\n        \"max\": 1,\n        \"num_unique_values\": 2,\n        \"samples\": [\n          0,\n          1\n        ],\n        \"semantic_type\": \"\",\n        \"description\": \"\"\n      }\n    },\n    {\n      \"column\": \"CreditCard\",\n      \"properties\": {\n        \"dtype\": \"number\",\n        \"std\": 0,\n        \"min\": 0,\n        \"max\": 1,\n        \"num_unique_values\": 2,\n        \"samples\": [\n          0,\n          1\n        ],\n        \"semantic_type\": \"\",\n        \"description\": \"\"\n      }\n    },\n    {\n      \"column\": \"FoodSpend\",\n      \"properties\": {\n        \"dtype\": \"number\",\n        \"std\": 1741.2989696246539,\n        \"min\": 1550.16,\n        \"max\": 10000.0,\n        \"num_unique_values\": 382,\n        \"samples\": [\n          4033.32,\n          3935.01\n        ],\n        \"semantic_type\": \"\",\n        \"description\": \"\"\n      }\n    },\n    {\n      \"column\": \"Income\",\n      \"properties\": {\n        \"dtype\": \"number\",\n        \"std\": 7248,\n        \"min\": 29200,\n        \"max\": 77626,\n        \"num_unique_values\": 49,\n        \"samples\": [\n          58110,\n          57380\n        ],\n        \"semantic_type\": \"\",\n        \"description\": \"\"\n      }\n    },\n    {\n      \"column\": \"TravelSpend\",\n      \"properties\": {\n        \"dtype\": \"number\",\n        \"std\": 1138.221722403897,\n        \"min\": 637.05,\n        \"max\": 6030.299999999999,\n        \"num_unique_values\": 382,\n        \"samples\": [\n          3679.2,\n          861.0\n        ],\n        \"semantic_type\": \"\",\n        \"description\": \"\"\n      }\n    }\n  ]\n}"
            }
          },
          "metadata": {},
          "execution_count": 17
        }
      ]
    },
    {
      "cell_type": "code",
      "source": [
        "#Se procede con la selección de las variables de trabajo\n",
        "XD=np.array(XDB[['College','FoodSpend','Income','TravelSpend']]) #Datos Entrada\n",
        "print(XD)\n",
        "yd=np.array(XDB[['CreditCard']]) #Este es el dato que quiero que el modelo pronostique\n",
        "#print(yd)"
      ],
      "metadata": {
        "id": "-wGGjuhOrHfh",
        "colab": {
          "base_uri": "https://localhost:8080/"
        },
        "outputId": "5267f3cd-a3ff-441c-a12b-661ae67d6716"
      },
      "execution_count": null,
      "outputs": [
        {
          "output_type": "stream",
          "name": "stdout",
          "text": [
            "[[1.00000e+00 5.47243e+03 4.91500e+04 8.27400e+02]\n",
            " [0.00000e+00 9.13073e+03 4.78060e+04 8.63550e+02]\n",
            " [0.00000e+00 4.45067e+03 4.60500e+04 1.18005e+03]\n",
            " ...\n",
            " [0.00000e+00 3.58586e+03 4.22500e+04 2.25195e+03]\n",
            " [1.00000e+00 1.83395e+03 6.02480e+04 2.00025e+03]\n",
            " [0.00000e+00 6.20597e+03 5.85200e+04 3.66750e+03]]\n"
          ]
        }
      ]
    },
    {
      "cell_type": "markdown",
      "source": [
        "2. Creacion del modelo - Decision Tree"
      ],
      "metadata": {
        "id": "Er-cmPnLsN0p"
      }
    },
    {
      "cell_type": "code",
      "source": [
        "\n",
        "# Encode target variable\n",
        "mar=DecisionTreeClassifier(criterion='gini', max_depth = 4) #4 Niveles o variables de entrada\n",
        "mar.fit(XD,yd)\n",
        "ydp=mar.predict(XD)\n",
        "\n",
        "from sklearn.metrics import confusion_matrix\n",
        "cm=confusion_matrix(yd,ydp)\n",
        "print(cm)\n",
        "\n",
        "#Evaluamos el modelo\n",
        "VN=cm[0][0]; FP=cm[0][1]; FN=cm[1][0]; VP=cm[1][1]\n",
        "\n",
        "Ex=(VN+VP)/(VN+VP+FN+FP) #Que porcentaje de los datos pronostico correctamente\n",
        "print(\"La exactitud alcanzada por el modelo es:\",Ex)\n",
        "Se=VP/(FN+VP) #Como le fue con los positivos\n",
        "print(\"La sensibilidad alcanzada por el modelo fue:\",Se)\n",
        "Es=VN/(VN+FP) #Como le fue con los negativos\n",
        "print(\"La especificidad alcanzada por el modelo fue:\",Es)\n"
      ],
      "metadata": {
        "colab": {
          "base_uri": "https://localhost:8080/"
        },
        "id": "6WyQEsOusQxE",
        "outputId": "561987a0-29c1-4a7e-c0df-18d44f3365c5"
      },
      "execution_count": null,
      "outputs": [
        {
          "output_type": "stream",
          "name": "stdout",
          "text": [
            "[[334   9]\n",
            " [ 42 115]]\n",
            "La exactitud alcanzada por el modelo es: 0.898\n",
            "La sensibilidad alcanzada por el modelo fue: 0.732484076433121\n",
            "La especificidad alcanzada por el modelo fue: 0.9737609329446064\n"
          ]
        }
      ]
    },
    {
      "cell_type": "markdown",
      "source": [
        "3. ¿ Y dónde está el árbol?"
      ],
      "metadata": {
        "id": "iwHD_u0jvyG6"
      }
    },
    {
      "cell_type": "code",
      "source": [
        "#Estas son las librerias para graficar árbol\n",
        "from sklearn.tree import export_graphviz\n",
        "from pydotplus import graph_from_dot_data\n",
        "\n",
        "VS = ['College','FoodSpend','Income','TravelSpend'] #Son los títulos para los nodos\n",
        "dot_graph=export_graphviz(mar,feature_names=VS)\n",
        "graph=graph_from_dot_data(dot_graph)\n",
        "graph.write_png('arbol.png')"
      ],
      "metadata": {
        "colab": {
          "base_uri": "https://localhost:8080/"
        },
        "id": "OGJosUiBv-Or",
        "outputId": "f4b7c7bd-28df-4401-9668-6e25fa7a0262"
      },
      "execution_count": null,
      "outputs": [
        {
          "output_type": "execute_result",
          "data": {
            "text/plain": [
              "True"
            ]
          },
          "metadata": {},
          "execution_count": 18
        }
      ]
    },
    {
      "cell_type": "markdown",
      "source": [
        "4. Se procede con el pronostico de los nuevos solicitantes"
      ],
      "metadata": {
        "id": "CkePdjPX6TtA"
      }
    },
    {
      "cell_type": "code",
      "source": [
        "XDB2=pd.read_excel(nxl, sheet_name=1)\n",
        "XDB2 = XDB2.dropna() #Elimina las celdas vacías o sin datos\n",
        "XDB2.head(100)\n",
        "\n",
        "XD2= np.array(XDB2[['College','FoodSpend','Income','TravelSpend']])\n",
        "print(XD2)\n",
        "\n",
        "#Pronosticamos la preaprobacion\n",
        "ydp2 = mar.predict(XD2)\n",
        "print(ydp2)\n",
        "print( \"El número de preaprobados es:\" ,np.sum(ydp2))\n",
        "print( \"El numero total de Datos es:\" , len(ydp2))\n",
        "print( \"El numero de PreNegados es:\" , len(ydp2)-np.sum(ydp2))"
      ],
      "metadata": {
        "colab": {
          "base_uri": "https://localhost:8080/"
        },
        "id": "e2OohlwV6Wff",
        "outputId": "0571e37b-2164-4a15-c076-e0c08862d2b8"
      },
      "execution_count": null,
      "outputs": [
        {
          "output_type": "stream",
          "name": "stdout",
          "text": [
            "[[0.00000e+00 2.89290e+03 6.59820e+04 2.15160e+03]\n",
            " [1.00000e+00 6.01766e+03 5.39860e+04 2.00250e+03]]\n",
            "[0 0]\n",
            "El número de preaprobados es: 0\n",
            "El numero total de Datos es: 2\n",
            "El numero de PreNegados es: 2\n"
          ]
        }
      ]
    },
    {
      "cell_type": "markdown",
      "source": [
        "**Análisis de resultados**\n",
        "\n",
        "De acuerdo con la base de datos sumistrada y el nodo base del arbol de decision se puede observar yd total de 500 datos, divididos en 343 Preaprobado y un total de 157 Prenegados, para predecir si un cliente utilizará su tarjeta de crédito para cubrir gastos de viaje y alimentos.\n",
        "De acuerdo al pronóstico realizado, se alcanzó una exactitud de 89%, se obtuvo una sensibilidad mas baja de 73%, indicando que se estan perdiendo el 26% de los casos positivos, clasificándolos erróneamente como falsos negativos (FN). Se obtuvo una especificidad del 97%.\n",
        "\n",
        "Aparecen 3 Nodos Puros\n",
        "- Nodo 1  \"[PreNeg:1,PreApr:0]\" . Se debe cumplir conla regla de:\n",
        "TravelSpend <= 1188.0 AND FoodSpend <= 4990.73 AND FoodSpend > 4972.55\n",
        "- Nodo 2 - \"[PreNeg:0,PreApr:47]\". Se debe cumplir con la regla de:\n",
        "TravelSpend <= 1188.0 AND FoodSpend > 4990.73\n",
        "- Nodo 3 - \"[PreNeg:108,PreApr:0]\". Se debe cumplir la regla de:\n",
        " TravelSpend > 1567.875 AND Income > 59098.0\n",
        "\n",
        "\n",
        "Con respecto al pronostico, podemos ver un total de 2 individuos sin preparobacion.  De los cuales 0 son preaprobados y un total de 2 prenegados"
      ],
      "metadata": {
        "id": "UXoXqYIF8rc0"
      }
    }
  ]
}